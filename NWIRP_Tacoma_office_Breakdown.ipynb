{
  "nbformat": 4,
  "nbformat_minor": 0,
  "metadata": {
    "colab": {
      "name": "NWIRP Tacoma office Breakdown",
      "provenance": [],
      "collapsed_sections": [],
      "include_colab_link": true
    },
    "kernelspec": {
      "name": "python3",
      "display_name": "Python 3"
    },
    "language_info": {
      "name": "python"
    }
  },
  "cells": [
    {
      "cell_type": "markdown",
      "metadata": {
        "id": "view-in-github",
        "colab_type": "text"
      },
      "source": [
        "<a href=\"https://colab.research.google.com/github/Zachjaryw/Zachjaryw/blob/main/NWIRP_Tacoma_office_Breakdown.ipynb\" target=\"_parent\"><img src=\"https://colab.research.google.com/assets/colab-badge.svg\" alt=\"Open In Colab\"/></a>"
      ]
    },
    {
      "cell_type": "markdown",
      "metadata": {
        "id": "9-JZh5sRpucL"
      },
      "source": [
        "#Read Me First:\n",
        "\n",
        "###This code generates the total number of times different values appear throughout the NWIRP Tacoma office data provided\n",
        "\n",
        "Change the column that you would like to get information for (change value for 'column') and whether you want to see the information for all counties or just a specific county with the dropdown menus on the right hand side of the code.\n",
        "\n",
        "Finally: Press the play button \"▶️\" in the top left corner of the \"Generate Data\" tab and then scroll to the bottom for the result.\n",
        "\n",
        "Please do not mess with any code written as it can mess up the result or lead to incorrect data."
      ]
    },
    {
      "cell_type": "markdown",
      "metadata": {
        "id": "5LLlATd4PgD0"
      },
      "source": [
        "# Generate Data"
      ]
    },
    {
      "cell_type": "code",
      "metadata": {
        "id": "4z2V-AvcNWVW",
        "colab": {
          "base_uri": "https://localhost:8080/"
        },
        "outputId": "0db9eac2-649d-4c6e-8263-148cac7c7261"
      },
      "source": [
        "import pandas as pd\n",
        "import numpy as np\n",
        "from statistics import mode\n",
        "pd.set_option('display.max_columns', None)\n",
        "data = pd.read_csv('https://raw.githubusercontent.com/Zachjaryw/Zachjaryw/main/TEST___TSU_Demographic_Data_Report.xlsx%20-%20TEST%20-%20TSU%20Demographic%20Data%20Rep.csv')\n",
        "\n",
        "##  CHANGE THESE THREE VALUES (Please read notes to the right of adjustable values)\n",
        "\n",
        "column = 'Language' #@param [\"Country_of_Citizenship\", \"County_of_Residence\", \"Language\", \"Race_label_a\",\"Race_label_b\"]\n",
        "by_county = False  #@param [\"True\", \"False\"] {type:\"raw\"}\n",
        "which_county = 'Pierce' #@param ['Pierce', 'Kitsap', 'Thurston', 'Skagit', 'Lewis', 'Mason', 'King', '00 Out-Of-State/Country or Unknown', 'Snohomish', 'Cowlitz', 'Clark', 'Clallam', 'Grays Harbor', 'Spokane', 'Pacific', 'Yakima', 'Whatcom', 'Benton', 'Franklin', 'Grant']\n",
        "\n",
        "###  DO NOT CHANGE THE CODE BELOW. ONLY CHANGE VALUES ABOVE. MAKE SURE TO PRESS PLAY TO GENERATE RESULTS\n",
        "\n",
        "\n",
        "\n",
        "is_number = False\n",
        "drop_value = '' \n",
        "dataset = data\n",
        "if by_county == True:\n",
        "  county_remove = dataset[['County_of_Residence']] == which_county\n",
        "  county_remove = county_remove[county_remove['County_of_Residence'] == False]\n",
        "  county_remove = list(county_remove.index)\n",
        "  dataset = dataset.drop(county_remove)\n",
        "  print('The following data is for ' + which_county + ' County.')\n",
        "  print()\n",
        "else:\n",
        "  print('The following data is for all counties served by the Tacoma Office.')\n",
        "  print()\n",
        "\n",
        "if is_number == True:\n",
        "  with_drop = True\n",
        "  find_average = True\n",
        "else:\n",
        "  with_drop = True\n",
        "  find_average = False\n",
        "\n",
        "if with_drop == True:\n",
        "  pull_unknown = dataset[[column]] == drop_value\n",
        "  pull_unknown = pull_unknown[pull_unknown[column] == True]\n",
        "  drop = list(pull_unknown.index)\n",
        "  dataset = dataset.drop(drop)\n",
        "else:\n",
        "  pass\n",
        "\n",
        "if find_average == True:\n",
        "  average = dataset[column].sum() / len (dataset[column])\n",
        "  print('The Average of the dataset is: ' + str(average))\n",
        "else:\n",
        "  from_list = dataset[column].values.tolist()\n",
        "  print('The Mode Value is: ' + str(mode(from_list)) + ' with ' + str(from_list.count(str(mode(from_list)))) + ' appearences.')\n",
        "unq = []\n",
        "pul = []\n",
        "unique = dataset[[column]].drop_duplicates()\n",
        "unique_list = unique[column].values.tolist()\n",
        "print()\n",
        "x = 0\n",
        "while x != len(unique):\n",
        "  pull_values = dataset[[column]] == list(unique.iloc[x])\n",
        "  pull_values = pull_values[pull_values[column] == True]\n",
        "  print(str(unique_list[x]) + ': ' + str(len(pull_values)))\n",
        "  unq.append(str(unique_list[x]))\n",
        "  pul.append(str(len(pull_values)))\n",
        "  x = x + 1\n",
        "\n",
        "full = pd.DataFrame(\n",
        "    {\n",
        "        'a': unq,\n",
        "        'b': pul\n",
        "    }\n",
        ")\n",
        "full = full.set_index('a')\n",
        "print(full)"
      ],
      "execution_count": null,
      "outputs": [
        {
          "output_type": "stream",
          "text": [
            "The following data is for all counties served by the Tacoma Office.\n",
            "\n",
            "The Mode Value is: Spanish with 582 appearences.\n",
            "\n",
            "French: 6\n",
            "Spanish: 582\n",
            "English: 169\n",
            "Q'anjob'al: 51\n",
            "K'iche': 1\n",
            "nan: 0\n",
            "Mam: 76\n",
            "Kanjobal; Q'anjob'al: 20\n",
            "Arabic: 3\n",
            "Fula(ni): 1\n",
            "Russian: 5\n",
            "Korean: 1\n",
            "Japanese: 2\n",
            "Cebuano: 1\n",
            "Mongolian: 1\n",
            "Other: 6\n",
            "American Sign Language: 1\n",
            "Khmer: 3\n",
            "Mandarin: 1\n",
            "Swahili: 2\n",
            "Tagalog: 2\n",
            "Cantonese: 1\n",
            "Tigrinya: 1\n",
            "Unknown: 1\n",
            "Vietnamese: 4\n",
            "Kurdish: 1\n",
            "                          b\n",
            "a                          \n",
            "French                    6\n",
            "Spanish                 582\n",
            "English                 169\n",
            "Q'anjob'al               51\n",
            "K'iche'                   1\n",
            "nan                       0\n",
            "Mam                      76\n",
            "Kanjobal; Q'anjob'al     20\n",
            "Arabic                    3\n",
            "Fula(ni)                  1\n",
            "Russian                   5\n",
            "Korean                    1\n",
            "Japanese                  2\n",
            "Cebuano                   1\n",
            "Mongolian                 1\n",
            "Other                     6\n",
            "American Sign Language    1\n",
            "Khmer                     3\n",
            "Mandarin                  1\n",
            "Swahili                   2\n",
            "Tagalog                   2\n",
            "Cantonese                 1\n",
            "Tigrinya                  1\n",
            "Unknown                   1\n",
            "Vietnamese                4\n",
            "Kurdish                   1\n"
          ],
          "name": "stdout"
        }
      ]
    },
    {
      "cell_type": "code",
      "metadata": {
        "id": "pub9LdAGCT5n"
      },
      "source": [
        "full.to_excel('full.xlsx')"
      ],
      "execution_count": null,
      "outputs": []
    }
  ]
}